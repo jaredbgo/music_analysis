{
  "nbformat": 4,
  "nbformat_minor": 0,
  "metadata": {
    "colab": {
      "name": "spotify_old_vs_new.ipynb",
      "provenance": [],
      "collapsed_sections": [],
      "authorship_tag": "ABX9TyOf5Hzy445yBaD41tKrMa7v"
    },
    "kernelspec": {
      "name": "python3",
      "display_name": "Python 3"
    }
  },
  "cells": [
    {
      "cell_type": "code",
      "metadata": {
        "id": "-Yn-cjxR7ukI",
        "colab_type": "code",
        "colab": {}
      },
      "source": [
        "#pip install spotipy\n",
        "import pandas as pd \n",
        "import numpy as np\n",
        "import spotipy \n",
        "import pprint\n",
        "import spotipy.util as util\n",
        "import statsmodels.api as sm\n",
        "from spotipy.oauth2 import SpotifyClientCredentials \n",
        "from sklearn.metrics import confusion_matrix\n",
        "from xgboost import plot_importance\n",
        "import matplotlib.pyplot as plt\n",
        "import xgboost as xgb\n",
        "from sklearn.model_selection import train_test_split"
      ],
      "execution_count": 0,
      "outputs": []
    },
    {
      "cell_type": "code",
      "metadata": {
        "id": "fkRcYx-PHEDI",
        "colab_type": "code",
        "colab": {}
      },
      "source": [
        "#https://developer.spotify.com/console/get-current-user-top-artists-and-tracks/?type=artists&time_range=&limit=50&offset=\n",
        "mytoken = \"\"\n",
        "sp = spotipy.Spotify(auth = mytoken)\n",
        "\n",
        "# Lets get 50 albums that I have downloaded to start building my dataset\n",
        "myalbums = sp.current_user_saved_albums(limit=50)\n",
        "album_tracks = []\n",
        "for album in myalbums[\"items\"]:\n",
        "  rdate = album['album']['release_date']\n",
        "  album_artist = album[\"album\"][\"artists\"][0][\"name\"]\n",
        "  for song in album[\"album\"][\"tracks\"][\"items\"]:\n",
        "      songdict = {}\n",
        "      songdict[\"id\"] = song[\"id\"]\n",
        "      songdict[\"artist_name\"] = album_artist\n",
        "      songdict[\"song_name\"] = song[\"name\"]\n",
        "      songdict[\"rdate\"] = rdate\n",
        "      album_tracks.append(songdict)"
      ],
      "execution_count": 0,
      "outputs": []
    },
    {
      "cell_type": "code",
      "metadata": {
        "id": "cZGTs4RAiwEm",
        "colab_type": "code",
        "colab": {}
      },
      "source": [
        "# I picked out some others that are old to balance out our classes\n",
        "hand_picked_albums = [\n",
        "    \"468ZwCchVtzEbt9BHmXopb\"\n",
        ",\"1lZahjeu4AhPkg9JARZr5F\"\n",
        ",\"58MQ0PLijVHePUonQlK76Y\"\n",
        ",\"21KIagsx1ZvYcv0sVkEAWv\"\n",
        ",\"3w5Hok05AFjCLy269xXM7e\"\n",
        ",\"4eTVgxB6wm5eGvesA4cUN5\"\n",
        ",\"4Gh6pRaXqXTtJx4plAJbBw\"\n",
        ",\"3EbtMJsHbspjhN6Xd4plIu\"\n",
        ",\"3KEGHqlHA1kvT9jLY9u38q\"\n",
        ",\"4NHPuxA6jrvjJ4ZxFncIwi\"\n",
        ",\"13dXX35pYjr8FqRla40K2a\"\n",
        ",\"7mRHt0S0Jrc9f112wMvchh\"\n",
        ",\"56I4vUYWQ4aXLiyfo8XuZv\"\n",
        ",\"1kH2CE1cZ61h3XjBsyCAvB\"\n",
        ",\"5bO76EkQUOyu0vYkF9tYq7\"\n",
        ",\"3Eg4Laj6Pm6GwV6VF2I1Q8\"\n",
        ",\"4PznnWq19AwatCG4lsyb5I\"\n",
        ",\"59Wr4PvymWsp1mboCa5QLy\"\n",
        ",\"56H0s8mDvyhVZOWn3vEBgS\"\n",
        ",\"1kuAkkhsye50w4et6k4vOT\"\n",
        ",\"5FWAviP7cXvH8iOVENSaNG\"\n",
        ",\"57GMEh9tkmc1TGs4rcdVhN\"\n",
        ",\"2QLp07RO6anZHmtcKTEvSC\"\n",
        ",\"27u4epCdDfTiogQolAomAl\"\n",
        ",\"7dsWupQRlFuhG8FGiQAUjC\"\n",
        ",\"6u5tGarzvESDsQiIpC4SlI\"\n",
        ",\"6YabPKtZAjxwyWbuO9p4ZD\"\n",
        ",\"3q90UAYeHLvAtnowiQlmgp\"\n",
        ",\"7AgI5vniflcbh86Znea7yM\"\n",
        ",\"0sGBs4v8lfyIN1tqZubLgA\"\n",
        ",\"03HMOcANauhLD0WNrMkmLU\"\n",
        ",\"4RMGrhJRnGiNqmKqhqpLlX\"\n",
        ",\"1jWmEhn3ggaL6isoyLfwBn\"\n",
        ",\"6lPb7Eoon6QPbscWbMsk6a\"\n",
        ",\"2ULhVPvdhT7RREnqRWM06G\"\n",
        ",\"10v912xgTZbjAtYfyKWJCS\"\n",
        ",\"4EsbzWIeUYpEF5Sv0yH8Ig\"\n",
        ",\"6DUa06cy7WWvhba9Jiheyg\"\n",
        ",\"7y2gHGuQhJmesRiNO8d8fK\"\n",
        ",\"1OvmilWKtrabJGEpPRlgK5\"\n",
        ",\"0cw6Sv7IwZ87aLPPvNPSd0\"\n",
        ",\"2NFd4ApYFitFtJhGTSfDdP\"\n",
        ",\"6N8uPmDqbgXD3ztkCCfxoo\"\n",
        ",\"4ZCrk8P8S1iSsEXZjimtPY\"\n",
        ",\"40aG9ahuLnAv96yoFG75Uy\"\n",
        ",\"4wy9Np1Skr6jQ46nrbFQ8L\"\n",
        ",\"3Cfxn2VpzchoMTJ5b362L6\"\n",
        ",\"29m6DinzdaD0OPqWKGyMdz\"\n",
        ",\"4qHWXbp5TbUWqH35c6m8kN\"\n",
        ",\"0ky5kdvfPxSmSpj03hpSAE\"\n",
        ",\"4SN55bwEnC0T1qmBTWZeyW\"            \n",
        "]\n",
        "\n",
        "album_dicts = []\n",
        "for each in hand_picked_albums:\n",
        "  album_dicts.append(sp.album(each))\n",
        "\n",
        "for album in album_dicts:\n",
        "  rdate = album['release_date']\n",
        "  album_artist = album[\"artists\"][0][\"name\"]\n",
        "  for song in album[\"tracks\"][\"items\"]:\n",
        "      songdict = {}\n",
        "      songdict[\"id\"] = song[\"id\"]\n",
        "      songdict[\"artist_name\"] = album_artist\n",
        "      songdict[\"song_name\"] = song[\"name\"]\n",
        "      songdict[\"rdate\"] = rdate\n",
        "      album_tracks.append(songdict)\n",
        "myalbum_data = pd.DataFrame(album_tracks)"
      ],
      "execution_count": 0,
      "outputs": []
    },
    {
      "cell_type": "code",
      "metadata": {
        "id": "rrLGf2LzK61r",
        "colab_type": "code",
        "colab": {
          "base_uri": "https://localhost:8080/",
          "height": 170
        },
        "outputId": "1ea7a728-9b25-4d8c-e462-fb469a352e4a"
      },
      "source": [
        " # Now we utilize the API to get more advanced song features\n",
        " song_feature_list = []\n",
        " for songid in myalbum_data[\"id\"]: \n",
        "  feat_dict = sp.audio_features(songid)[0]\n",
        "  feat_dict[\"id\"] = songid\n",
        "  song_feature_list.append(feat_dict)\n",
        "features = pd.DataFrame(song_feature_list)"
      ],
      "execution_count": 167,
      "outputs": [
        {
          "output_type": "stream",
          "text": [
            "retrying ...4secs\n",
            "retrying ...5secs\n",
            "retrying ...5secs\n",
            "retrying ...3secs\n",
            "retrying ...2secs\n",
            "retrying ...5secs\n",
            "retrying ...1secs\n",
            "retrying ...4secs\n",
            "retrying ...5secs\n"
          ],
          "name": "stdout"
        }
      ]
    },
    {
      "cell_type": "code",
      "metadata": {
        "id": "XLLTTcTMqZdX",
        "colab_type": "code",
        "colab": {}
      },
      "source": [
        "#Put it all together, and define an \"old\" song\n",
        "song_model_data = myalbum_data.merge(features, how = 'inner', on = 'id')\n",
        "song_model_data[\"ryear\"] = song_model_data.rdate.str.extract(r\"(\\d\\d\\d\\d)\").astype(int)\n",
        "song_model_data[\"is_old\"] = np.where(song_model_data[\"ryear\"] < 1980, 1, 0)"
      ],
      "execution_count": 0,
      "outputs": []
    },
    {
      "cell_type": "code",
      "metadata": {
        "id": "Tr1Ephe1smIb",
        "colab_type": "code",
        "colab": {
          "base_uri": "https://localhost:8080/",
          "height": 1000
        },
        "outputId": "37d8bef6-357b-44ef-c518-bdc36aa329c2"
      },
      "source": [
        "# Before we build our model, let's do some EDA\n",
        "newsongs = song_model_data[song_model_data.is_old == 0]\n",
        "oldsongs = song_model_data[song_model_data.is_old == 1]\n",
        "\n",
        "#Lets see if some variables look to be different between our classes\n",
        "\n",
        "#We expect older songs to be more acoustic (lets audio engineering, more guitar work)\n",
        "print(\"acousticness\")\n",
        "newsongs.acousticness.hist()\n",
        "plt.show()\n",
        "oldsongs.acousticness.hist()\n",
        "plt.show()\n",
        "#Looks like this is happening!\n",
        "\n",
        "#We expect older songs to be less dancable, more irregular compositions\n",
        "print(\"danceability\")\n",
        "newsongs.danceability.hist()\n",
        "plt.show()\n",
        "oldsongs.danceability.hist()\n",
        "plt.show()\n",
        "#Looks like this is happening!\n",
        "\n",
        "#We expect older songs to be longer (i/e extended jams present)\n",
        "print(\"duration_ms\")\n",
        "newsongs.duration_ms.hist()\n",
        "plt.show()\n",
        "oldsongs.duration_ms.hist()\n",
        "plt.show()\n",
        "#Less clear"
      ],
      "execution_count": 169,
      "outputs": [
        {
          "output_type": "stream",
          "text": [
            "acousticness\n"
          ],
          "name": "stdout"
        },
        {
          "output_type": "display_data",
          "data": {
            "image/png": "[encoded data removed]",
            "text/plain": [
              "<Figure size 432x288 with 1 Axes>"
            ]
          },
          "metadata": {
            "tags": []
          }
        },
        {
          "output_type": "display_data",
          "data": {
            "image/png": "[encoded data removed]",
            "text/plain": [
              "<Figure size 432x288 with 1 Axes>"
            ]
          },
          "metadata": {
            "tags": []
          }
        },
        {
          "output_type": "stream",
          "text": [
            "danceability\n"
          ],
          "name": "stdout"
        },
        {
          "output_type": "display_data",
          "data": {
            "image/png": "[encoded data removed]",
            "text/plain": [
              "<Figure size 432x288 with 1 Axes>"
            ]
          },
          "metadata": {
            "tags": []
          }
        },
        {
          "output_type": "display_data",
          "data": {
            "image/png": "[encoded data removed]",
            "text/plain": [
              "<Figure size 432x288 with 1 Axes>"
            ]
          },
          "metadata": {
            "tags": []
          }
        },
        {
          "output_type": "stream",
          "text": [
            "duration_ms\n"
          ],
          "name": "stdout"
        },
        {
          "output_type": "display_data",
          "data": {
            "image/png": "[encoded data removed]",
            "text/plain": [
              "<Figure size 432x288 with 1 Axes>"
            ]
          },
          "metadata": {
            "tags": []
          }
        },
        {
          "output_type": "display_data",
          "data": {
            "image/png": "[encoded data removed]",
            "text/plain": [
              "<Figure size 432x288 with 1 Axes>"
            ]
          },
          "metadata": {
            "tags": []
          }
        }
      ]
    },
    {
      "cell_type": "code",
      "metadata": {
        "id": "yWPvRY5Ptv7c",
        "colab_type": "code",
        "colab": {
          "base_uri": "https://localhost:8080/",
          "height": 446
        },
        "outputId": "6877541f-3572-496a-8b0f-255d5ee6046d"
      },
      "source": [
        "# Before I build my predictive model, let's do some inference to see what features could be helpful\n",
        "# Logistic regression here we come\n",
        "logit_X = song_model_data.copy()[[\"danceability\", \"energy\", \"loudness\", \"mode\", \"acousticness\", \"valence\", \"tempo\", \"duration_ms\"]]\n",
        "logit_X[\"intercept\"] = 1\n",
        "logit_y = song_model_data.is_old\n",
        "logit = sm.Logit(logit_y, logit_X)\n",
        "logit.fit().summary()\n",
        "#interestingly, most variables look like they help, except acousticness and tempo"
      ],
      "execution_count": 177,
      "outputs": [
        {
          "output_type": "stream",
          "text": [
            "Optimization terminated successfully.\n",
            "         Current function value: 0.546252\n",
            "         Iterations 6\n"
          ],
          "name": "stdout"
        },
        {
          "output_type": "execute_result",
          "data": {
            "text/html": [
              "<table class=\"simpletable\">\n",
              "<caption>Logit Regression Results</caption>\n",
              "<tr>\n",
              "  <th>Dep. Variable:</th>        <td>is_old</td>      <th>  No. Observations:  </th>  <td>  1146</td>  \n",
              "</tr>\n",
              "<tr>\n",
              "  <th>Model:</th>                 <td>Logit</td>      <th>  Df Residuals:      </th>  <td>  1137</td>  \n",
              "</tr>\n",
              "<tr>\n",
              "  <th>Method:</th>                 <td>MLE</td>       <th>  Df Model:          </th>  <td>     8</td>  \n",
              "</tr>\n",
              "<tr>\n",
              "  <th>Date:</th>            <td>Mon, 09 Mar 2020</td> <th>  Pseudo R-squ.:     </th>  <td>0.2119</td>  \n",
              "</tr>\n",
              "<tr>\n",
              "  <th>Time:</th>                <td>03:08:44</td>     <th>  Log-Likelihood:    </th> <td> -626.00</td> \n",
              "</tr>\n",
              "<tr>\n",
              "  <th>converged:</th>             <td>True</td>       <th>  LL-Null:           </th> <td> -794.32</td> \n",
              "</tr>\n",
              "<tr>\n",
              "  <th>Covariance Type:</th>     <td>nonrobust</td>    <th>  LLR p-value:       </th> <td>6.456e-68</td>\n",
              "</tr>\n",
              "</table>\n",
              "<table class=\"simpletable\">\n",
              "<tr>\n",
              "        <td></td>          <th>coef</th>     <th>std err</th>      <th>z</th>      <th>P>|z|</th>  <th>[0.025</th>    <th>0.975]</th>  \n",
              "</tr>\n",
              "<tr>\n",
              "  <th>danceability</th> <td>   -4.2257</td> <td>    0.527</td> <td>   -8.024</td> <td> 0.000</td> <td>   -5.258</td> <td>   -3.194</td>\n",
              "</tr>\n",
              "<tr>\n",
              "  <th>energy</th>       <td>   -1.5428</td> <td>    0.602</td> <td>   -2.561</td> <td> 0.010</td> <td>   -2.723</td> <td>   -0.362</td>\n",
              "</tr>\n",
              "<tr>\n",
              "  <th>loudness</th>     <td>   -0.1501</td> <td>    0.028</td> <td>   -5.278</td> <td> 0.000</td> <td>   -0.206</td> <td>   -0.094</td>\n",
              "</tr>\n",
              "<tr>\n",
              "  <th>mode</th>         <td>    0.7926</td> <td>    0.150</td> <td>    5.298</td> <td> 0.000</td> <td>    0.499</td> <td>    1.086</td>\n",
              "</tr>\n",
              "<tr>\n",
              "  <th>acousticness</th> <td>    0.2381</td> <td>    0.296</td> <td>    0.805</td> <td> 0.421</td> <td>   -0.342</td> <td>    0.818</td>\n",
              "</tr>\n",
              "<tr>\n",
              "  <th>valence</th>      <td>    5.1302</td> <td>    0.422</td> <td>   12.152</td> <td> 0.000</td> <td>    4.303</td> <td>    5.958</td>\n",
              "</tr>\n",
              "<tr>\n",
              "  <th>tempo</th>        <td>-5.962e-05</td> <td>    0.002</td> <td>   -0.026</td> <td> 0.979</td> <td>   -0.005</td> <td>    0.004</td>\n",
              "</tr>\n",
              "<tr>\n",
              "  <th>duration_ms</th>  <td> 2.705e-06</td> <td> 6.76e-07</td> <td>    4.003</td> <td> 0.000</td> <td> 1.38e-06</td> <td> 4.03e-06</td>\n",
              "</tr>\n",
              "<tr>\n",
              "  <th>intercept</th>    <td>   -2.3931</td> <td>    0.764</td> <td>   -3.134</td> <td> 0.002</td> <td>   -3.890</td> <td>   -0.897</td>\n",
              "</tr>\n",
              "</table>"
            ],
            "text/plain": [
              "<class 'statsmodels.iolib.summary.Summary'>\n",
              "\"\"\"\n",
              "                           Logit Regression Results                           \n",
              "==============================================================================\n",
              "Dep. Variable:                 is_old   No. Observations:                 1146\n",
              "Model:                          Logit   Df Residuals:                     1137\n",
              "Method:                           MLE   Df Model:                            8\n",
              "Date:                Mon, 09 Mar 2020   Pseudo R-squ.:                  0.2119\n",
              "Time:                        03:08:44   Log-Likelihood:                -626.00\n",
              "converged:                       True   LL-Null:                       -794.32\n",
              "Covariance Type:            nonrobust   LLR p-value:                 6.456e-68\n",
              "================================================================================\n",
              "                   coef    std err          z      P>|z|      [0.025      0.975]\n",
              "--------------------------------------------------------------------------------\n",
              "danceability    -4.2257      0.527     -8.024      0.000      -5.258      -3.194\n",
              "energy          -1.5428      0.602     -2.561      0.010      -2.723      -0.362\n",
              "loudness        -0.1501      0.028     -5.278      0.000      -0.206      -0.094\n",
              "mode             0.7926      0.150      5.298      0.000       0.499       1.086\n",
              "acousticness     0.2381      0.296      0.805      0.421      -0.342       0.818\n",
              "valence          5.1302      0.422     12.152      0.000       4.303       5.958\n",
              "tempo        -5.962e-05      0.002     -0.026      0.979      -0.005       0.004\n",
              "duration_ms   2.705e-06   6.76e-07      4.003      0.000    1.38e-06    4.03e-06\n",
              "intercept       -2.3931      0.764     -3.134      0.002      -3.890      -0.897\n",
              "================================================================================\n",
              "\"\"\""
            ]
          },
          "metadata": {
            "tags": []
          },
          "execution_count": 177
        }
      ]
    },
    {
      "cell_type": "code",
      "metadata": {
        "id": "E8_YqKoRBJHA",
        "colab_type": "code",
        "colab": {
          "base_uri": "https://localhost:8080/",
          "height": 136
        },
        "outputId": "4f2bc154-3693-444c-aa2b-0d8b2f08b09c"
      },
      "source": [
        "# Ok with this knowledge, lets train a boosted classifer using all variables.\n",
        "# The decision trees themselves should sort out which variables to use :)\n",
        "# First we split the data in test and train\n",
        "\n",
        "X_df = song_model_data[[\"danceability\", \"energy\", \"loudness\", \"mode\", \"acousticness\", \"valence\", \"tempo\", \"duration_ms\"]]\n",
        "y_array = song_model_data[\"is_old\"]\n",
        "\n",
        "xtrain, xtest, ytrain, ytest = train_test_split(X_df, y_array, test_size = 0.2, random_state = 0)\n",
        "xtrain, xval, ytrain, yval = train_test_split(xtrain, ytrain, test_size = .2, random_state = 0)\n",
        "\n",
        "# Lets take a look at some valuation errors to get best model performance, changed max_depth for better performance\n",
        "\n",
        "boosted_model =xgb.XGBClassifier(random_state=1,learning_rate=0.01, max_depth = 10)\n",
        "boosted_model.fit(xtrain, ytrain)"
      ],
      "execution_count": 171,
      "outputs": [
        {
          "output_type": "execute_result",
          "data": {
            "text/plain": [
              "XGBClassifier(base_score=0.5, booster='gbtree', colsample_bylevel=1,\n",
              "              colsample_bynode=1, colsample_bytree=1, gamma=0,\n",
              "              learning_rate=0.01, max_delta_step=0, max_depth=10,\n",
              "              min_child_weight=1, missing=None, n_estimators=100, n_jobs=1,\n",
              "              nthread=None, objective='binary:logistic', random_state=1,\n",
              "              reg_alpha=0, reg_lambda=1, scale_pos_weight=1, seed=None,\n",
              "              silent=None, subsample=1, verbosity=1)"
            ]
          },
          "metadata": {
            "tags": []
          },
          "execution_count": 171
        }
      ]
    },
    {
      "cell_type": "code",
      "metadata": {
        "id": "rkToXUz0DLZG",
        "colab_type": "code",
        "colab": {
          "base_uri": "https://localhost:8080/",
          "height": 51
        },
        "outputId": "3f465677-8094-41dc-e84d-1dc10147fa2c"
      },
      "source": [
        "# We expect training error to be higher, which it is :)\n",
        "print(\"Training accuracy:   {}\".format(boosted_model.score(xtrain, ytrain)))\n",
        "print(\"Test accuracy:       {}\".format(boosted_model.score(xtest, ytest)))"
      ],
      "execution_count": 172,
      "outputs": [
        {
          "output_type": "stream",
          "text": [
            "Training accuracy:   0.9672131147540983\n",
            "Test accuracy:       0.7565217391304347\n"
          ],
          "name": "stdout"
        }
      ]
    },
    {
      "cell_type": "code",
      "metadata": {
        "id": "ExowwwxmETdR",
        "colab_type": "code",
        "colab": {
          "base_uri": "https://localhost:8080/",
          "height": 312
        },
        "outputId": "924e439f-4471-4d68-c978-d5fdf3312ff6"
      },
      "source": [
        "# Lets check out feature importance, and compare to our logit model\n",
        "plot_importance(boosted_model)\n",
        "#Similar, but not the exact same. Looks like major vs minor key really doesnt help"
      ],
      "execution_count": 173,
      "outputs": [
        {
          "output_type": "execute_result",
          "data": {
            "text/plain": [
              "<matplotlib.axes._subplots.AxesSubplot at 0x7fc9dbf917f0>"
            ]
          },
          "metadata": {
            "tags": []
          },
          "execution_count": 173
        },
        {
          "output_type": "display_data",
          "data": {
            "image/png": "[encoded data removed]",
            "text/plain": [
              "<Figure size 432x288 with 1 Axes>"
            ]
          },
          "metadata": {
            "tags": []
          }
        }
      ]
    },
    {
      "cell_type": "code",
      "metadata": {
        "id": "WzKKylh7GWxj",
        "colab_type": "code",
        "colab": {
          "base_uri": "https://localhost:8080/",
          "height": 51
        },
        "outputId": "1d042054-bcab-4900-9de5-c0a90fee727a"
      },
      "source": [
        "# Lets see overall performance with a confusion matrix\n",
        "tn, fp, fn, tp = confusion_matrix(ytest,boosted_model.predict(xtest)).ravel()\n",
        "#Recall is how many we correctly said were old, divided by all truly old songs\n",
        "#Precision is how many we correcly said were old, divided by how many we said were old\n",
        "print(\"recall is    {}\".format(tp / (tp + fn)))\n",
        "print(\"precision is {}\".format(tp / (tp + fp)))\n",
        "# Were doing a great job!"
      ],
      "execution_count": 174,
      "outputs": [
        {
          "output_type": "stream",
          "text": [
            "recall is    0.7777777777777778\n",
            "precision is 0.8015267175572519\n"
          ],
          "name": "stdout"
        }
      ]
    },
    {
      "cell_type": "code",
      "metadata": {
        "id": "zCgvqZkbHsGe",
        "colab_type": "code",
        "colab": {
          "base_uri": "https://localhost:8080/",
          "height": 111
        },
        "outputId": "182efcfc-2c97-4b59-d94e-fd27fb512bda"
      },
      "source": [
        "# Lastly, lets check on our guy Leon, and see if our algorithm can tell hes making music today and not back in the day!\n",
        "# And lets compare him to Sam Cooke, a big influence of his, who made music in the 60's\n",
        "xtest_qa = xtest.copy()\n",
        "xtest_qa[\"predicted_is_old\"] = boosted_model.predict(xtest)\n",
        "xtest_qa[\"is_old\"] = ytest\n",
        "xtest_w_songs = xtest_qa.merge(song_model_data[[\"artist_name\", \"song_name\"]], right_index=True, left_index=True)\n",
        "xtest_w_songs[\"counter\"] = 1\n",
        "\n",
        "test_by_artist = xtest_w_songs.groupby(\"artist_name\", as_index=False)[[\"predicted_is_old\", \"is_old\", \"counter\"]].sum().rename(columns = {'counter': \"total_songs\"})\n",
        "test_by_artist[test_by_artist.artist_name.isin([\"Leon Bridges\", \"Sam Cooke\"])]\n",
        "# Nice! Our algorithm predicted both of Sam Cooke's songs were old, but only 1 of 6 of Leon's songs.\n",
        "# Now that's a smart algorithm :)"
      ],
      "execution_count": 175,
      "outputs": [
        {
          "output_type": "execute_result",
          "data": {
            "text/html": [
              "<div>\n",
              "<style scoped>\n",
              "    .dataframe tbody tr th:only-of-type {\n",
              "        vertical-align: middle;\n",
              "    }\n",
              "\n",
              "    .dataframe tbody tr th {\n",
              "        vertical-align: top;\n",
              "    }\n",
              "\n",
              "    .dataframe thead th {\n",
              "        text-align: right;\n",
              "    }\n",
              "</style>\n",
              "<table border=\"1\" class=\"dataframe\">\n",
              "  <thead>\n",
              "    <tr style=\"text-align: right;\">\n",
              "      <th></th>\n",
              "      <th>artist_name</th>\n",
              "      <th>predicted_is_old</th>\n",
              "      <th>is_old</th>\n",
              "      <th>total_songs</th>\n",
              "    </tr>\n",
              "  </thead>\n",
              "  <tbody>\n",
              "    <tr>\n",
              "      <th>43</th>\n",
              "      <td>Leon Bridges</td>\n",
              "      <td>1</td>\n",
              "      <td>0</td>\n",
              "      <td>6</td>\n",
              "    </tr>\n",
              "    <tr>\n",
              "      <th>65</th>\n",
              "      <td>Sam Cooke</td>\n",
              "      <td>2</td>\n",
              "      <td>2</td>\n",
              "      <td>2</td>\n",
              "    </tr>\n",
              "  </tbody>\n",
              "</table>\n",
              "</div>"
            ],
            "text/plain": [
              "     artist_name  predicted_is_old  is_old  total_songs\n",
              "43  Leon Bridges                 1       0            6\n",
              "65     Sam Cooke                 2       2            2"
            ]
          },
          "metadata": {
            "tags": []
          },
          "execution_count": 175
        }
      ]
    }
  ]
}